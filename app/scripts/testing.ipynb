{
 "cells": [
  {
   "cell_type": "markdown",
   "metadata": {},
   "source": [
    "# Parsing LOGS to DF"
   ]
  },
  {
   "cell_type": "markdown",
   "metadata": {},
   "source": [
    "To dos:\n",
    "- [ ] Gerar um ID por linha de log (se bem que dá pra fazer isso por query, não?)\n",
    "- [ ] Transformar o time em datetime para ser importado\n",
    "- [x] Separar os schemas de raw e trusted\n",
    "- [ ] Escrever a documentação\n",
    "- [ ] Gerar tabela de analytics e consumo\n",
    "- [x] Gerar um sistema para mandar os eventos\n",
    "- [ ] Montar os sistemas via DOCKERFILE\n"
   ]
  },
  {
   "cell_type": "code",
   "execution_count": 28,
   "metadata": {},
   "outputs": [],
   "source": [
    "from sqlalchemy import create_engine\n",
    "import pandas as pd\n",
    "import os\n",
    "from random import randrange"
   ]
  },
  {
   "cell_type": "code",
   "execution_count": 4,
   "metadata": {},
   "outputs": [
    {
     "data": {
      "text/html": [
       "<div>\n",
       "<style scoped>\n",
       "    .dataframe tbody tr th:only-of-type {\n",
       "        vertical-align: middle;\n",
       "    }\n",
       "\n",
       "    .dataframe tbody tr th {\n",
       "        vertical-align: top;\n",
       "    }\n",
       "\n",
       "    .dataframe thead th {\n",
       "        text-align: right;\n",
       "    }\n",
       "</style>\n",
       "<table border=\"1\" class=\"dataframe\">\n",
       "  <thead>\n",
       "    <tr style=\"text-align: right;\">\n",
       "      <th></th>\n",
       "      <th>ip</th>\n",
       "      <th>time</th>\n",
       "      <th>request</th>\n",
       "      <th>status_code</th>\n",
       "      <th>size</th>\n",
       "      <th>referer</th>\n",
       "      <th>user_agent</th>\n",
       "    </tr>\n",
       "  </thead>\n",
       "  <tbody>\n",
       "    <tr>\n",
       "      <th>28982</th>\n",
       "      <td>188.64.128.39</td>\n",
       "      <td>[27/May/2015:10:05:06 +0000]</td>\n",
       "      <td>\"GET /downloads/product_1 HTTP/1.1\"</td>\n",
       "      <td>404</td>\n",
       "      <td>328</td>\n",
       "      <td>\"-\"</td>\n",
       "      <td>\"Debian APT-HTTP/1.3 (1.0.1ubuntu2)\"</td>\n",
       "    </tr>\n",
       "    <tr>\n",
       "      <th>28983</th>\n",
       "      <td>180.179.174.219</td>\n",
       "      <td>[27/May/2015:10:05:59 +0000]</td>\n",
       "      <td>\"GET /downloads/product_2 HTTP/1.1\"</td>\n",
       "      <td>404</td>\n",
       "      <td>337</td>\n",
       "      <td>\"-\"</td>\n",
       "      <td>\"Debian APT-HTTP/1.3 (0.9.7.9)\"</td>\n",
       "    </tr>\n",
       "    <tr>\n",
       "      <th>28984</th>\n",
       "      <td>180.179.174.219</td>\n",
       "      <td>[27/May/2015:10:05:11 +0000]</td>\n",
       "      <td>\"GET /downloads/product_2 HTTP/1.1\"</td>\n",
       "      <td>404</td>\n",
       "      <td>339</td>\n",
       "      <td>\"-\"</td>\n",
       "      <td>\"Debian APT-HTTP/1.3 (0.9.7.9)\"</td>\n",
       "    </tr>\n",
       "    <tr>\n",
       "      <th>28985</th>\n",
       "      <td>91.103.4.38</td>\n",
       "      <td>[27/May/2015:10:05:09 +0000]</td>\n",
       "      <td>\"GET /downloads/product_2 HTTP/1.1\"</td>\n",
       "      <td>200</td>\n",
       "      <td>951</td>\n",
       "      <td>\"-\"</td>\n",
       "      <td>\"urlgrabber/3.9.1 yum/3.2.29\"</td>\n",
       "    </tr>\n",
       "    <tr>\n",
       "      <th>28986</th>\n",
       "      <td>180.179.174.219</td>\n",
       "      <td>[27/May/2015:10:05:23 +0000]</td>\n",
       "      <td>\"GET /downloads/product_2 HTTP/1.1\"</td>\n",
       "      <td>200</td>\n",
       "      <td>490</td>\n",
       "      <td>\"-\"</td>\n",
       "      <td>\"Debian APT-HTTP/\"</td>\n",
       "    </tr>\n",
       "  </tbody>\n",
       "</table>\n",
       "</div>"
      ],
      "text/plain": [
       "                    ip                          time  \\\n",
       "28982    188.64.128.39  [27/May/2015:10:05:06 +0000]   \n",
       "28983  180.179.174.219  [27/May/2015:10:05:59 +0000]   \n",
       "28984  180.179.174.219  [27/May/2015:10:05:11 +0000]   \n",
       "28985      91.103.4.38  [27/May/2015:10:05:09 +0000]   \n",
       "28986  180.179.174.219  [27/May/2015:10:05:23 +0000]   \n",
       "\n",
       "                                   request  status_code  size referer  \\\n",
       "28982  \"GET /downloads/product_1 HTTP/1.1\"          404   328     \"-\"   \n",
       "28983  \"GET /downloads/product_2 HTTP/1.1\"          404   337     \"-\"   \n",
       "28984  \"GET /downloads/product_2 HTTP/1.1\"          404   339     \"-\"   \n",
       "28985  \"GET /downloads/product_2 HTTP/1.1\"          200   951     \"-\"   \n",
       "28986  \"GET /downloads/product_2 HTTP/1.1\"          200   490     \"-\"   \n",
       "\n",
       "                                 user_agent  \n",
       "28982  \"Debian APT-HTTP/1.3 (1.0.1ubuntu2)\"  \n",
       "28983       \"Debian APT-HTTP/1.3 (0.9.7.9)\"  \n",
       "28984       \"Debian APT-HTTP/1.3 (0.9.7.9)\"  \n",
       "28985         \"urlgrabber/3.9.1 yum/3.2.29\"  \n",
       "28986                    \"Debian APT-HTTP/\"  "
      ]
     },
     "execution_count": 4,
     "metadata": {},
     "output_type": "execute_result"
    }
   ],
   "source": [
    "log_file = \"../logs/ngix.log\"\n",
    "\n",
    "df = pd.read_csv(log_file,\n",
    "              sep=r'\\s(?=(?:[^\"]*\"[^\"]*\")*[^\"]*$)(?![^\\[]*\\])',\n",
    "              engine='python',\n",
    "              usecols=[0, 3, 4, 5, 6, 7, 8],\n",
    "              names=['ip', 'time', 'request', 'status_code', 'size', 'referer', 'user_agent'],\n",
    "              na_values='-',\n",
    "              header=None\n",
    "                )\n",
    "df.tail()"
   ]
  },
  {
   "cell_type": "code",
   "execution_count": null,
   "metadata": {},
   "outputs": [],
   "source": []
  },
  {
   "cell_type": "code",
   "execution_count": 3,
   "metadata": {},
   "outputs": [
    {
     "name": "stdout",
     "output_type": "stream",
     "text": [
      "<class 'pandas.core.frame.DataFrame'>\n",
      "RangeIndex: 28987 entries, 0 to 28986\n",
      "Data columns (total 7 columns):\n",
      " #   Column      Non-Null Count  Dtype  \n",
      "---  ------      --------------  -----  \n",
      " 0   ip          28987 non-null  object \n",
      " 1   time        28987 non-null  object \n",
      " 2   request     28986 non-null  object \n",
      " 3   status      28986 non-null  float64\n",
      " 4   size        28986 non-null  float64\n",
      " 5   referer     28986 non-null  object \n",
      " 6   user_agent  28986 non-null  object \n",
      "dtypes: float64(2), object(5)\n",
      "memory usage: 1.5+ MB\n"
     ]
    }
   ],
   "source": [
    "df.info()"
   ]
  },
  {
   "cell_type": "markdown",
   "metadata": {},
   "source": [
    "# DF to POSTGRES"
   ]
  },
  {
   "cell_type": "code",
   "execution_count": 255,
   "metadata": {},
   "outputs": [
    {
     "name": "stdout",
     "output_type": "stream",
     "text": [
      "The dotenv extension is already loaded. To reload it, use:\n",
      "  %reload_ext dotenv\n"
     ]
    }
   ],
   "source": [
    "%load_ext dotenv\n",
    "%dotenv"
   ]
  },
  {
   "cell_type": "code",
   "execution_count": 279,
   "metadata": {},
   "outputs": [],
   "source": [
    "def data_to_dw(data: pd.DataFrame, table: str, schema: str):\n",
    "    engine = get_engine('admin')\n",
    "    df.to_sql(table, engine, schema, index = False, if_exists = 'replace')\n",
    "    \n",
    "    print(\"===> Success to save the data on DW.\")"
   ]
  },
  {
   "cell_type": "code",
   "execution_count": 28,
   "metadata": {},
   "outputs": [
    {
     "name": "stdout",
     "output_type": "stream",
     "text": [
      "===> Success to save the data on DW.\n"
     ]
    }
   ],
   "source": [
    "data_to_dw(df, 'logs', 'trusted')"
   ]
  }
 ],
 "metadata": {
  "kernelspec": {
   "display_name": "Python 3.8.2 64-bit",
   "language": "python",
   "name": "python38264bit1adf4c79916c482781b301b196fafd54"
  },
  "language_info": {
   "codemirror_mode": {
    "name": "ipython",
    "version": 3
   },
   "file_extension": ".py",
   "mimetype": "text/x-python",
   "name": "python",
   "nbconvert_exporter": "python",
   "pygments_lexer": "ipython3",
   "version": "3.8.2"
  }
 },
 "nbformat": 4,
 "nbformat_minor": 4
}
