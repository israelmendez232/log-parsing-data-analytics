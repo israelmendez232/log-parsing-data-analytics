{
 "cells": [
  {
   "cell_type": "markdown",
   "metadata": {},
   "source": [
    "# Parsing LOGS to DF"
   ]
  },
  {
   "cell_type": "markdown",
   "metadata": {},
   "source": [
    "To dos:\n",
    "- [ ] Gerar um ID por linha de log (se bem que dá pra fazer isso por query, não?)\n",
    "- [ ] Transformar o time em datetime para ser importado\n",
    "- [ ] Separar os schemas de raw e trusted\n",
    "- [ ] Escrever a documentação\n",
    "- [ ] Gerar tabela de analytics e consumo\n",
    "- [x] Gerar um sistema para mandar os eventos\n",
    "- [ ] Montar os sistemas via DOCKERFILE\n"
   ]
  },
  {
   "cell_type": "code",
   "execution_count": 28,
   "metadata": {},
   "outputs": [],
   "source": [
    "from sqlalchemy import create_engine\n",
    "import pandas as pd\n",
    "import os\n",
    "from random import randrange"
   ]
  },
  {
   "cell_type": "code",
   "execution_count": 4,
   "metadata": {},
   "outputs": [
    {
     "data": {
      "text/html": [
       "<div>\n",
       "<style scoped>\n",
       "    .dataframe tbody tr th:only-of-type {\n",
       "        vertical-align: middle;\n",
       "    }\n",
       "\n",
       "    .dataframe tbody tr th {\n",
       "        vertical-align: top;\n",
       "    }\n",
       "\n",
       "    .dataframe thead th {\n",
       "        text-align: right;\n",
       "    }\n",
       "</style>\n",
       "<table border=\"1\" class=\"dataframe\">\n",
       "  <thead>\n",
       "    <tr style=\"text-align: right;\">\n",
       "      <th></th>\n",
       "      <th>ip</th>\n",
       "      <th>time</th>\n",
       "      <th>request</th>\n",
       "      <th>status_code</th>\n",
       "      <th>size</th>\n",
       "      <th>referer</th>\n",
       "      <th>user_agent</th>\n",
       "    </tr>\n",
       "  </thead>\n",
       "  <tbody>\n",
       "    <tr>\n",
       "      <th>28982</th>\n",
       "      <td>188.64.128.39</td>\n",
       "      <td>[27/May/2015:10:05:06 +0000]</td>\n",
       "      <td>\"GET /downloads/product_1 HTTP/1.1\"</td>\n",
       "      <td>404</td>\n",
       "      <td>328</td>\n",
       "      <td>\"-\"</td>\n",
       "      <td>\"Debian APT-HTTP/1.3 (1.0.1ubuntu2)\"</td>\n",
       "    </tr>\n",
       "    <tr>\n",
       "      <th>28983</th>\n",
       "      <td>180.179.174.219</td>\n",
       "      <td>[27/May/2015:10:05:59 +0000]</td>\n",
       "      <td>\"GET /downloads/product_2 HTTP/1.1\"</td>\n",
       "      <td>404</td>\n",
       "      <td>337</td>\n",
       "      <td>\"-\"</td>\n",
       "      <td>\"Debian APT-HTTP/1.3 (0.9.7.9)\"</td>\n",
       "    </tr>\n",
       "    <tr>\n",
       "      <th>28984</th>\n",
       "      <td>180.179.174.219</td>\n",
       "      <td>[27/May/2015:10:05:11 +0000]</td>\n",
       "      <td>\"GET /downloads/product_2 HTTP/1.1\"</td>\n",
       "      <td>404</td>\n",
       "      <td>339</td>\n",
       "      <td>\"-\"</td>\n",
       "      <td>\"Debian APT-HTTP/1.3 (0.9.7.9)\"</td>\n",
       "    </tr>\n",
       "    <tr>\n",
       "      <th>28985</th>\n",
       "      <td>91.103.4.38</td>\n",
       "      <td>[27/May/2015:10:05:09 +0000]</td>\n",
       "      <td>\"GET /downloads/product_2 HTTP/1.1\"</td>\n",
       "      <td>200</td>\n",
       "      <td>951</td>\n",
       "      <td>\"-\"</td>\n",
       "      <td>\"urlgrabber/3.9.1 yum/3.2.29\"</td>\n",
       "    </tr>\n",
       "    <tr>\n",
       "      <th>28986</th>\n",
       "      <td>180.179.174.219</td>\n",
       "      <td>[27/May/2015:10:05:23 +0000]</td>\n",
       "      <td>\"GET /downloads/product_2 HTTP/1.1\"</td>\n",
       "      <td>200</td>\n",
       "      <td>490</td>\n",
       "      <td>\"-\"</td>\n",
       "      <td>\"Debian APT-HTTP/\"</td>\n",
       "    </tr>\n",
       "  </tbody>\n",
       "</table>\n",
       "</div>"
      ],
      "text/plain": [
       "                    ip                          time  \\\n",
       "28982    188.64.128.39  [27/May/2015:10:05:06 +0000]   \n",
       "28983  180.179.174.219  [27/May/2015:10:05:59 +0000]   \n",
       "28984  180.179.174.219  [27/May/2015:10:05:11 +0000]   \n",
       "28985      91.103.4.38  [27/May/2015:10:05:09 +0000]   \n",
       "28986  180.179.174.219  [27/May/2015:10:05:23 +0000]   \n",
       "\n",
       "                                   request  status_code  size referer  \\\n",
       "28982  \"GET /downloads/product_1 HTTP/1.1\"          404   328     \"-\"   \n",
       "28983  \"GET /downloads/product_2 HTTP/1.1\"          404   337     \"-\"   \n",
       "28984  \"GET /downloads/product_2 HTTP/1.1\"          404   339     \"-\"   \n",
       "28985  \"GET /downloads/product_2 HTTP/1.1\"          200   951     \"-\"   \n",
       "28986  \"GET /downloads/product_2 HTTP/1.1\"          200   490     \"-\"   \n",
       "\n",
       "                                 user_agent  \n",
       "28982  \"Debian APT-HTTP/1.3 (1.0.1ubuntu2)\"  \n",
       "28983       \"Debian APT-HTTP/1.3 (0.9.7.9)\"  \n",
       "28984       \"Debian APT-HTTP/1.3 (0.9.7.9)\"  \n",
       "28985         \"urlgrabber/3.9.1 yum/3.2.29\"  \n",
       "28986                    \"Debian APT-HTTP/\"  "
      ]
     },
     "execution_count": 4,
     "metadata": {},
     "output_type": "execute_result"
    }
   ],
   "source": [
    "log_file = \"../logs/ngix.log\"\n",
    "\n",
    "df = pd.read_csv(log_file,\n",
    "              sep=r'\\s(?=(?:[^\"]*\"[^\"]*\")*[^\"]*$)(?![^\\[]*\\])',\n",
    "              engine='python',\n",
    "              usecols=[0, 3, 4, 5, 6, 7, 8],\n",
    "              names=['ip', 'time', 'request', 'status_code', 'size', 'referer', 'user_agent'],\n",
    "              na_values='-',\n",
    "              header=None\n",
    "                )\n",
    "df.tail()"
   ]
  },
  {
   "cell_type": "code",
   "execution_count": 3,
   "metadata": {},
   "outputs": [
    {
     "name": "stdout",
     "output_type": "stream",
     "text": [
      "<class 'pandas.core.frame.DataFrame'>\n",
      "RangeIndex: 28987 entries, 0 to 28986\n",
      "Data columns (total 7 columns):\n",
      " #   Column      Non-Null Count  Dtype  \n",
      "---  ------      --------------  -----  \n",
      " 0   ip          28987 non-null  object \n",
      " 1   time        28987 non-null  object \n",
      " 2   request     28986 non-null  object \n",
      " 3   status      28986 non-null  float64\n",
      " 4   size        28986 non-null  float64\n",
      " 5   referer     28986 non-null  object \n",
      " 6   user_agent  28986 non-null  object \n",
      "dtypes: float64(2), object(5)\n",
      "memory usage: 1.5+ MB\n"
     ]
    }
   ],
   "source": [
    "df.info()"
   ]
  },
  {
   "cell_type": "markdown",
   "metadata": {},
   "source": [
    "# DF to POSTGRES"
   ]
  },
  {
   "cell_type": "code",
   "execution_count": 15,
   "metadata": {},
   "outputs": [
    {
     "data": {
      "text/plain": [
       "True"
      ]
     },
     "execution_count": 15,
     "metadata": {},
     "output_type": "execute_result"
    }
   ],
   "source": [
    "from dotenv import load_dotenv\n",
    "load_dotenv('./env')"
   ]
  },
  {
   "cell_type": "code",
   "execution_count": 29,
   "metadata": {},
   "outputs": [],
   "source": [
    "def get_engine():\n",
    "    username = os.environ['POSTGRES_USER']\n",
    "    password = os.environ['POSTGRES_PASSWORD']\n",
    "    database = os.environ['POSTGRES_DB']\n",
    "    host = os.environ['DW_HOST']\n",
    "    \n",
    "    engine = create_engine(f'postgresql://{username}:{password}@{host}:5432/{database}')\n",
    "    return engine"
   ]
  },
  {
   "cell_type": "code",
   "execution_count": 27,
   "metadata": {},
   "outputs": [],
   "source": [
    "def data_to_dw(data: pd.DataFrame, table: str):\n",
    "    engine = get_engine()\n",
    "    df.to_sql(table, engine, index = False, if_exists = 'replace')\n",
    "    \n",
    "    print(\"===> Success to save the data on DW.\")"
   ]
  },
  {
   "cell_type": "code",
   "execution_count": 28,
   "metadata": {},
   "outputs": [
    {
     "name": "stdout",
     "output_type": "stream",
     "text": [
      "===> Success to save the data on DW.\n"
     ]
    }
   ],
   "source": [
    "data_to_dw(df, 'raw_logs')"
   ]
  },
  {
   "cell_type": "markdown",
   "metadata": {},
   "source": [
    "# POSTGRES to ANALYTICS"
   ]
  },
  {
   "cell_type": "code",
   "execution_count": 32,
   "metadata": {},
   "outputs": [],
   "source": [
    "def get_data_dw(query: str):\n",
    "    engine = get_engine()\n",
    "    df = pd.read_sql_query(query, con = engine)\n",
    "    \n",
    "    return df"
   ]
  },
  {
   "cell_type": "code",
   "execution_count": 5,
   "metadata": {},
   "outputs": [
    {
     "ename": "NameError",
     "evalue": "name 'get_data_dw' is not defined",
     "output_type": "error",
     "traceback": [
      "\u001b[0;31m---------------------------------------------------------------------------\u001b[0m",
      "\u001b[0;31mNameError\u001b[0m                                 Traceback (most recent call last)",
      "\u001b[0;32m<ipython-input-5-993ec559e753>\u001b[0m in \u001b[0;36m<module>\u001b[0;34m\u001b[0m\n\u001b[1;32m      1\u001b[0m \u001b[0mquery\u001b[0m \u001b[0;34m=\u001b[0m \u001b[0;34m'SELECT COUNT(time) AS requests, status AS status_code FROM public.teste GROUP BY status_code ORDER BY requests DESC'\u001b[0m\u001b[0;34m\u001b[0m\u001b[0;34m\u001b[0m\u001b[0m\n\u001b[0;32m----> 2\u001b[0;31m \u001b[0mdf\u001b[0m \u001b[0;34m=\u001b[0m \u001b[0mget_data_dw\u001b[0m\u001b[0;34m(\u001b[0m\u001b[0mquery\u001b[0m\u001b[0;34m)\u001b[0m\u001b[0;34m\u001b[0m\u001b[0;34m\u001b[0m\u001b[0m\n\u001b[0m\u001b[1;32m      3\u001b[0m \u001b[0mprint\u001b[0m\u001b[0;34m(\u001b[0m\u001b[0mdf\u001b[0m\u001b[0;34m.\u001b[0m\u001b[0mto_string\u001b[0m\u001b[0;34m(\u001b[0m\u001b[0mindex\u001b[0m\u001b[0;34m=\u001b[0m\u001b[0;32mFalse\u001b[0m\u001b[0;34m)\u001b[0m\u001b[0;34m)\u001b[0m\u001b[0;34m\u001b[0m\u001b[0;34m\u001b[0m\u001b[0m\n",
      "\u001b[0;31mNameError\u001b[0m: name 'get_data_dw' is not defined"
     ]
    }
   ],
   "source": [
    "query = 'SELECT COUNT(time) AS requests, status AS status_code FROM public.teste GROUP BY status_code ORDER BY requests DESC'\n",
    "df = get_data_dw(query)\n",
    "print(df.to_string(index=False))"
   ]
  },
  {
   "cell_type": "markdown",
   "metadata": {},
   "source": [
    "# SIMULATE LOGS INSERTION"
   ]
  },
  {
   "cell_type": "code",
   "execution_count": 218,
   "metadata": {},
   "outputs": [],
   "source": [
    "def insert_log():\n",
    "    df = pd.read_csv(log_file, delimiter = \"\\t\", sep=\" \", header=None)\n",
    "    lines = len(df.index) + 1 # To make sure that every line will be selected\n",
    "    \n",
    "    rows_init = randrange(lines)\n",
    "    rows_end = rows_init + randrange(11)\n",
    "    new_df = df[rows_init:rows_end]\n",
    "    \n",
    "    new_list = new_df.values.tolist()\n",
    "    \n",
    "    # Write the file\n",
    "    with open(log_file, \"a\") as file_object:\n",
    "        for element in new_list:\n",
    "            log = element[0]\n",
    "            file_object.write(f\"{log}\\n\")\n",
    "    print(\"===> Writting the log.\")"
   ]
  },
  {
   "cell_type": "code",
   "execution_count": 242,
   "metadata": {},
   "outputs": [
    {
     "name": "stdout",
     "output_type": "stream",
     "text": [
      "===> Writting the log.\n"
     ]
    }
   ],
   "source": [
    "insert_log()"
   ]
  },
  {
   "cell_type": "markdown",
   "metadata": {},
   "source": [
    "# Create structure for data warehouse"
   ]
  },
  {
   "cell_type": "code",
   "execution_count": null,
   "metadata": {},
   "outputs": [],
   "source": [
    "def structure_data_warehouse():\n",
    "    # 1. "
   ]
  }
 ],
 "metadata": {
  "kernelspec": {
   "display_name": "Python 3.8.2 64-bit",
   "language": "python",
   "name": "python38264bit1adf4c79916c482781b301b196fafd54"
  },
  "language_info": {
   "codemirror_mode": {
    "name": "ipython",
    "version": 3
   },
   "file_extension": ".py",
   "mimetype": "text/x-python",
   "name": "python",
   "nbconvert_exporter": "python",
   "pygments_lexer": "ipython3",
   "version": "3.8.2"
  }
 },
 "nbformat": 4,
 "nbformat_minor": 4
}
