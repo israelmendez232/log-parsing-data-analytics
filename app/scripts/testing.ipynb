{
 "cells": [
  {
   "cell_type": "markdown",
   "metadata": {},
   "source": [
    "# Parsing LOGS to DF"
   ]
  },
  {
   "cell_type": "markdown",
   "metadata": {},
   "source": [
    "To dos:\n",
    "- [ ] Gerar um ID por linha de log (se bem que dá pra fazer isso por query, não?)\n",
    "- [ ] Transformar o time em datetime para ser importado\n",
    "- [ ] Testar uma quantidade de contagem por status"
   ]
  },
  {
   "cell_type": "code",
   "execution_count": 3,
   "metadata": {},
   "outputs": [
    {
     "data": {
      "text/html": [
       "<div>\n",
       "<style scoped>\n",
       "    .dataframe tbody tr th:only-of-type {\n",
       "        vertical-align: middle;\n",
       "    }\n",
       "\n",
       "    .dataframe tbody tr th {\n",
       "        vertical-align: top;\n",
       "    }\n",
       "\n",
       "    .dataframe thead th {\n",
       "        text-align: right;\n",
       "    }\n",
       "</style>\n",
       "<table border=\"1\" class=\"dataframe\">\n",
       "  <thead>\n",
       "    <tr style=\"text-align: right;\">\n",
       "      <th></th>\n",
       "      <th>ip</th>\n",
       "      <th>time</th>\n",
       "      <th>request</th>\n",
       "      <th>status</th>\n",
       "      <th>size</th>\n",
       "      <th>referer</th>\n",
       "      <th>user_agent</th>\n",
       "    </tr>\n",
       "  </thead>\n",
       "  <tbody>\n",
       "    <tr>\n",
       "      <th>0</th>\n",
       "      <td>93.180.71.3</td>\n",
       "      <td>[17/May/2015:08:05:32 +0000]</td>\n",
       "      <td>\"GET /downloads/product_1 HTTP/1.1\"</td>\n",
       "      <td>304.0</td>\n",
       "      <td>0.0</td>\n",
       "      <td>\"-\"</td>\n",
       "      <td>\"Debian APT-HTTP/1.3 (0.8.16~exp12ubuntu10.21)\"</td>\n",
       "    </tr>\n",
       "    <tr>\n",
       "      <th>1</th>\n",
       "      <td>93.180.71.3</td>\n",
       "      <td>[17/May/2015:08:05:23 +0000]</td>\n",
       "      <td>\"GET /downloads/product_1 HTTP/1.1\"</td>\n",
       "      <td>304.0</td>\n",
       "      <td>0.0</td>\n",
       "      <td>\"-\"</td>\n",
       "      <td>\"Debian APT-HTTP/1.3 (0.8.16~exp12ubuntu10.21)\"</td>\n",
       "    </tr>\n",
       "    <tr>\n",
       "      <th>2</th>\n",
       "      <td>80.91.33.133</td>\n",
       "      <td>[17/May/2015:08:05:24 +0000]</td>\n",
       "      <td>\"GET /downloads/product_1 HTTP/1.1\"</td>\n",
       "      <td>304.0</td>\n",
       "      <td>0.0</td>\n",
       "      <td>\"-\"</td>\n",
       "      <td>\"Debian APT-HTTP/1.3 (0.8.16~exp12ubuntu10.17)\"</td>\n",
       "    </tr>\n",
       "    <tr>\n",
       "      <th>3</th>\n",
       "      <td>217.168.17.5</td>\n",
       "      <td>[17/May/2015:08:05:34 +0000]</td>\n",
       "      <td>\"GET /downloads/product_1 HTTP/1.1\"</td>\n",
       "      <td>200.0</td>\n",
       "      <td>490.0</td>\n",
       "      <td>\"-\"</td>\n",
       "      <td>\"Debian APT-HTTP/1.3 (0.8.10.3)\"</td>\n",
       "    </tr>\n",
       "    <tr>\n",
       "      <th>4</th>\n",
       "      <td>217.168.17.5</td>\n",
       "      <td>[17/May/2015:08:05:09 +0000]</td>\n",
       "      <td>\"GET /downloads/product_2 HTTP/1.1\"</td>\n",
       "      <td>200.0</td>\n",
       "      <td>490.0</td>\n",
       "      <td>\"-\"</td>\n",
       "      <td>\"Debian APT-HTTP/1.3 (0.8.10.3)\"</td>\n",
       "    </tr>\n",
       "  </tbody>\n",
       "</table>\n",
       "</div>"
      ],
      "text/plain": [
       "             ip                          time  \\\n",
       "0   93.180.71.3  [17/May/2015:08:05:32 +0000]   \n",
       "1   93.180.71.3  [17/May/2015:08:05:23 +0000]   \n",
       "2  80.91.33.133  [17/May/2015:08:05:24 +0000]   \n",
       "3  217.168.17.5  [17/May/2015:08:05:34 +0000]   \n",
       "4  217.168.17.5  [17/May/2015:08:05:09 +0000]   \n",
       "\n",
       "                               request  status   size referer  \\\n",
       "0  \"GET /downloads/product_1 HTTP/1.1\"   304.0    0.0     \"-\"   \n",
       "1  \"GET /downloads/product_1 HTTP/1.1\"   304.0    0.0     \"-\"   \n",
       "2  \"GET /downloads/product_1 HTTP/1.1\"   304.0    0.0     \"-\"   \n",
       "3  \"GET /downloads/product_1 HTTP/1.1\"   200.0  490.0     \"-\"   \n",
       "4  \"GET /downloads/product_2 HTTP/1.1\"   200.0  490.0     \"-\"   \n",
       "\n",
       "                                        user_agent  \n",
       "0  \"Debian APT-HTTP/1.3 (0.8.16~exp12ubuntu10.21)\"  \n",
       "1  \"Debian APT-HTTP/1.3 (0.8.16~exp12ubuntu10.21)\"  \n",
       "2  \"Debian APT-HTTP/1.3 (0.8.16~exp12ubuntu10.17)\"  \n",
       "3                 \"Debian APT-HTTP/1.3 (0.8.10.3)\"  \n",
       "4                 \"Debian APT-HTTP/1.3 (0.8.10.3)\"  "
      ]
     },
     "execution_count": 3,
     "metadata": {},
     "output_type": "execute_result"
    }
   ],
   "source": [
    "import pandas as pd\n",
    "\n",
    "log_file = \"../logs/ngix.log\"\n",
    "\n",
    "df = pd.read_csv(log_file,\n",
    "              sep=r'\\s(?=(?:[^\"]*\"[^\"]*\")*[^\"]*$)(?![^\\[]*\\])',\n",
    "              engine='python',\n",
    "              usecols=[0, 3, 4, 5, 6, 7, 8],\n",
    "              names=['ip', 'time', 'request', 'status', 'size', 'referer', 'user_agent'],\n",
    "              na_values='-',\n",
    "              header=None\n",
    "                )\n",
    "df.head()"
   ]
  },
  {
   "cell_type": "code",
   "execution_count": 5,
   "metadata": {},
   "outputs": [
    {
     "name": "stdout",
     "output_type": "stream",
     "text": [
      "<class 'pandas.core.frame.DataFrame'>\n",
      "RangeIndex: 28987 entries, 0 to 28986\n",
      "Data columns (total 7 columns):\n",
      " #   Column      Non-Null Count  Dtype  \n",
      "---  ------      --------------  -----  \n",
      " 0   ip          28987 non-null  object \n",
      " 1   time        28987 non-null  object \n",
      " 2   request     28986 non-null  object \n",
      " 3   status      28986 non-null  float64\n",
      " 4   size        28986 non-null  float64\n",
      " 5   referer     28986 non-null  object \n",
      " 6   user_agent  28986 non-null  object \n",
      "dtypes: float64(2), object(5)\n",
      "memory usage: 1.5+ MB\n"
     ]
    }
   ],
   "source": [
    "df.info()"
   ]
  },
  {
   "cell_type": "markdown",
   "metadata": {},
   "source": [
    "# DF to POSTGRES"
   ]
  },
  {
   "cell_type": "code",
   "execution_count": 6,
   "metadata": {},
   "outputs": [],
   "source": [
    "def data_to_dw(data: pd.DataFrame, table: str):\n",
    "    return 1"
   ]
  },
  {
   "cell_type": "markdown",
   "metadata": {},
   "source": [
    "# POSTGRES to ANALYTICS"
   ]
  },
  {
   "cell_type": "code",
   "execution_count": null,
   "metadata": {},
   "outputs": [],
   "source": []
  }
 ],
 "metadata": {
  "kernelspec": {
   "display_name": "Python 3.8.2 64-bit",
   "language": "python",
   "name": "python38264bit1adf4c79916c482781b301b196fafd54"
  },
  "language_info": {
   "codemirror_mode": {
    "name": "ipython",
    "version": 3
   },
   "file_extension": ".py",
   "mimetype": "text/x-python",
   "name": "python",
   "nbconvert_exporter": "python",
   "pygments_lexer": "ipython3",
   "version": "3.8.2"
  }
 },
 "nbformat": 4,
 "nbformat_minor": 4
}
